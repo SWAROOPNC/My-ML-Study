{
  "cells": [
    {
      "metadata": {
        "button": false,
        "new_sheet": false,
        "run_control": {
          "read_only": false
        },
        "id": "r10R3nAl6uoz"
      },
      "cell_type": "markdown",
      "source": [
        "# Multiple Linear Regression\n",
        "\n"
      ]
    },
    {
      "metadata": {
        "button": false,
        "new_sheet": false,
        "run_control": {
          "read_only": false
        },
        "id": "DSCiC6C_6uo9"
      },
      "cell_type": "markdown",
      "source": [
        "### Importing Needed packages\n"
      ]
    },
    {
      "metadata": {
        "button": false,
        "new_sheet": false,
        "run_control": {
          "read_only": false
        },
        "id": "eHL6pPyg6uo-"
      },
      "cell_type": "code",
      "source": [
        "import numpy as np\n",
        "import pandas as pd\n",
        "import seaborn as sns"
      ],
      "execution_count": 61,
      "outputs": []
    },
    {
      "metadata": {
        "button": false,
        "new_sheet": false,
        "run_control": {
          "read_only": false
        },
        "id": "Oazxh6xZ6upA"
      },
      "cell_type": "markdown",
      "source": [
        "### Downloading Data\n"
      ]
    },
    {
      "metadata": {
        "button": false,
        "new_sheet": false,
        "run_control": {
          "read_only": false
        },
        "id": "qrQYIR866upB",
        "outputId": "6c3bf1a9-c584-4309-b948-e22f60e2e165",
        "colab": {
          "base_uri": "https://localhost:8080/"
        }
      },
      "cell_type": "code",
      "source": [
        "!wget -O 'FuelConsumption.csv' https://cf-courses-data.s3.us.cloud-object-storage.appdomain.cloud/IBMDeveloperSkillsNetwork-ML0101EN-SkillsNetwork/labs/Module%202/data/FuelConsumptionCo2.csv"
      ],
      "execution_count": 14,
      "outputs": [
        {
          "output_type": "stream",
          "name": "stdout",
          "text": [
            "--2022-06-23 14:23:49--  https://cf-courses-data.s3.us.cloud-object-storage.appdomain.cloud/IBMDeveloperSkillsNetwork-ML0101EN-SkillsNetwork/labs/Module%202/data/FuelConsumptionCo2.csv\n",
            "Resolving cf-courses-data.s3.us.cloud-object-storage.appdomain.cloud (cf-courses-data.s3.us.cloud-object-storage.appdomain.cloud)... 169.63.118.104\n",
            "Connecting to cf-courses-data.s3.us.cloud-object-storage.appdomain.cloud (cf-courses-data.s3.us.cloud-object-storage.appdomain.cloud)|169.63.118.104|:443... connected.\n",
            "HTTP request sent, awaiting response... 200 OK\n",
            "Length: 72629 (71K) [text/csv]\n",
            "Saving to: ‘FuelConsumption.csv’\n",
            "\n",
            "FuelConsumption.csv 100%[===================>]  70.93K  --.-KB/s    in 0.006s  \n",
            "\n",
            "2022-06-23 14:23:49 (11.1 MB/s) - ‘FuelConsumption.csv’ saved [72629/72629]\n",
            "\n"
          ]
        }
      ]
    },
    {
      "metadata": {
        "button": false,
        "new_sheet": false,
        "run_control": {
          "read_only": false
        },
        "id": "oVRswR7e6upE"
      },
      "cell_type": "markdown",
      "source": [
        "<h2 id=\"understanding_data\">Understanding the Data</h2>\n",
        "\n",
        "### `FuelConsumption.csv`:\n",
        "\n",
        "contains **model-specific fuel consumption ratings** & estimated carbon dioxide emissions\n",
        "\n",
        "[Dataset source](http://open.canada.ca/data/en/dataset/98f1a129-f628-4ce4-b24d-6f16bf24dd64?utm_medium=Exinfluencer&utm_source=Exinfluencer&utm_content=000026UJ&utm_term=10006555&utm_id=NA-SkillsNetwork-Channel-SkillsNetworkCoursesIBMDeveloperSkillsNetworkML0101ENSkillsNetwork20718538-2021-01-01)\n",
        "\n",
        "*   **MODELYEAR** e.g. 2014\n",
        "*   **MAKE** e.g. Acura\n",
        "*   **MODEL** e.g. ILX\n",
        "*   **VEHICLE CLASS** e.g. SUV\n",
        "*   **ENGINE SIZE** e.g. 4.7\n",
        "*   **CYLINDERS** e.g 6\n",
        "*   **TRANSMISSION** e.g. A6\n",
        "*   **FUELTYPE** e.g. z\n",
        "*   **FUEL CONSUMPTION in CITY(L/100 km)** e.g. 9.9\n",
        "*   **FUEL CONSUMPTION in HWY (L/100 km)** e.g. 8.9\n",
        "*   **FUEL CONSUMPTION COMB (L/100 km)** e.g. 9.2\n",
        "*   **CO2 EMISSIONS (g/km)** e.g. 182   --> low --> 0\n"
      ]
    },
    {
      "metadata": {
        "button": false,
        "new_sheet": false,
        "run_control": {
          "read_only": false
        },
        "id": "g09PUXe56upG"
      },
      "cell_type": "markdown",
      "source": [
        "<h2 id=\"reading_data\">Reading the data in</h2>\n"
      ]
    },
    {
      "metadata": {
        "button": false,
        "new_sheet": false,
        "run_control": {
          "read_only": false
        },
        "id": "5VlW7TMh6upJ",
        "outputId": "9a79498b-7c23-4412-a1c2-8939da195fec",
        "colab": {
          "base_uri": "https://localhost:8080/",
          "height": 322
        }
      },
      "cell_type": "code",
      "source": [
        "df = pd.read_csv('FuelConsumption.csv')\n",
        "\n",
        "# take a look at the dataset\n",
        "df.head()"
      ],
      "execution_count": 15,
      "outputs": [
        {
          "output_type": "execute_result",
          "data": {
            "text/plain": [
              "   MODELYEAR   MAKE       MODEL VEHICLECLASS  ENGINESIZE  CYLINDERS  \\\n",
              "0       2014  ACURA         ILX      COMPACT         2.0          4   \n",
              "1       2014  ACURA         ILX      COMPACT         2.4          4   \n",
              "2       2014  ACURA  ILX HYBRID      COMPACT         1.5          4   \n",
              "3       2014  ACURA     MDX 4WD  SUV - SMALL         3.5          6   \n",
              "4       2014  ACURA     RDX AWD  SUV - SMALL         3.5          6   \n",
              "\n",
              "  TRANSMISSION FUELTYPE  FUELCONSUMPTION_CITY  FUELCONSUMPTION_HWY  \\\n",
              "0          AS5        Z                   9.9                  6.7   \n",
              "1           M6        Z                  11.2                  7.7   \n",
              "2          AV7        Z                   6.0                  5.8   \n",
              "3          AS6        Z                  12.7                  9.1   \n",
              "4          AS6        Z                  12.1                  8.7   \n",
              "\n",
              "   FUELCONSUMPTION_COMB  FUELCONSUMPTION_COMB_MPG  CO2EMISSIONS  \n",
              "0                   8.5                        33           196  \n",
              "1                   9.6                        29           221  \n",
              "2                   5.9                        48           136  \n",
              "3                  11.1                        25           255  \n",
              "4                  10.6                        27           244  "
            ],
            "text/html": [
              "\n",
              "  <div id=\"df-5876a78d-6105-4151-8483-771512da7a8a\">\n",
              "    <div class=\"colab-df-container\">\n",
              "      <div>\n",
              "<style scoped>\n",
              "    .dataframe tbody tr th:only-of-type {\n",
              "        vertical-align: middle;\n",
              "    }\n",
              "\n",
              "    .dataframe tbody tr th {\n",
              "        vertical-align: top;\n",
              "    }\n",
              "\n",
              "    .dataframe thead th {\n",
              "        text-align: right;\n",
              "    }\n",
              "</style>\n",
              "<table border=\"1\" class=\"dataframe\">\n",
              "  <thead>\n",
              "    <tr style=\"text-align: right;\">\n",
              "      <th></th>\n",
              "      <th>MODELYEAR</th>\n",
              "      <th>MAKE</th>\n",
              "      <th>MODEL</th>\n",
              "      <th>VEHICLECLASS</th>\n",
              "      <th>ENGINESIZE</th>\n",
              "      <th>CYLINDERS</th>\n",
              "      <th>TRANSMISSION</th>\n",
              "      <th>FUELTYPE</th>\n",
              "      <th>FUELCONSUMPTION_CITY</th>\n",
              "      <th>FUELCONSUMPTION_HWY</th>\n",
              "      <th>FUELCONSUMPTION_COMB</th>\n",
              "      <th>FUELCONSUMPTION_COMB_MPG</th>\n",
              "      <th>CO2EMISSIONS</th>\n",
              "    </tr>\n",
              "  </thead>\n",
              "  <tbody>\n",
              "    <tr>\n",
              "      <th>0</th>\n",
              "      <td>2014</td>\n",
              "      <td>ACURA</td>\n",
              "      <td>ILX</td>\n",
              "      <td>COMPACT</td>\n",
              "      <td>2.0</td>\n",
              "      <td>4</td>\n",
              "      <td>AS5</td>\n",
              "      <td>Z</td>\n",
              "      <td>9.9</td>\n",
              "      <td>6.7</td>\n",
              "      <td>8.5</td>\n",
              "      <td>33</td>\n",
              "      <td>196</td>\n",
              "    </tr>\n",
              "    <tr>\n",
              "      <th>1</th>\n",
              "      <td>2014</td>\n",
              "      <td>ACURA</td>\n",
              "      <td>ILX</td>\n",
              "      <td>COMPACT</td>\n",
              "      <td>2.4</td>\n",
              "      <td>4</td>\n",
              "      <td>M6</td>\n",
              "      <td>Z</td>\n",
              "      <td>11.2</td>\n",
              "      <td>7.7</td>\n",
              "      <td>9.6</td>\n",
              "      <td>29</td>\n",
              "      <td>221</td>\n",
              "    </tr>\n",
              "    <tr>\n",
              "      <th>2</th>\n",
              "      <td>2014</td>\n",
              "      <td>ACURA</td>\n",
              "      <td>ILX HYBRID</td>\n",
              "      <td>COMPACT</td>\n",
              "      <td>1.5</td>\n",
              "      <td>4</td>\n",
              "      <td>AV7</td>\n",
              "      <td>Z</td>\n",
              "      <td>6.0</td>\n",
              "      <td>5.8</td>\n",
              "      <td>5.9</td>\n",
              "      <td>48</td>\n",
              "      <td>136</td>\n",
              "    </tr>\n",
              "    <tr>\n",
              "      <th>3</th>\n",
              "      <td>2014</td>\n",
              "      <td>ACURA</td>\n",
              "      <td>MDX 4WD</td>\n",
              "      <td>SUV - SMALL</td>\n",
              "      <td>3.5</td>\n",
              "      <td>6</td>\n",
              "      <td>AS6</td>\n",
              "      <td>Z</td>\n",
              "      <td>12.7</td>\n",
              "      <td>9.1</td>\n",
              "      <td>11.1</td>\n",
              "      <td>25</td>\n",
              "      <td>255</td>\n",
              "    </tr>\n",
              "    <tr>\n",
              "      <th>4</th>\n",
              "      <td>2014</td>\n",
              "      <td>ACURA</td>\n",
              "      <td>RDX AWD</td>\n",
              "      <td>SUV - SMALL</td>\n",
              "      <td>3.5</td>\n",
              "      <td>6</td>\n",
              "      <td>AS6</td>\n",
              "      <td>Z</td>\n",
              "      <td>12.1</td>\n",
              "      <td>8.7</td>\n",
              "      <td>10.6</td>\n",
              "      <td>27</td>\n",
              "      <td>244</td>\n",
              "    </tr>\n",
              "  </tbody>\n",
              "</table>\n",
              "</div>\n",
              "      <button class=\"colab-df-convert\" onclick=\"convertToInteractive('df-5876a78d-6105-4151-8483-771512da7a8a')\"\n",
              "              title=\"Convert this dataframe to an interactive table.\"\n",
              "              style=\"display:none;\">\n",
              "        \n",
              "  <svg xmlns=\"http://www.w3.org/2000/svg\" height=\"24px\"viewBox=\"0 0 24 24\"\n",
              "       width=\"24px\">\n",
              "    <path d=\"M0 0h24v24H0V0z\" fill=\"none\"/>\n",
              "    <path d=\"M18.56 5.44l.94 2.06.94-2.06 2.06-.94-2.06-.94-.94-2.06-.94 2.06-2.06.94zm-11 1L8.5 8.5l.94-2.06 2.06-.94-2.06-.94L8.5 2.5l-.94 2.06-2.06.94zm10 10l.94 2.06.94-2.06 2.06-.94-2.06-.94-.94-2.06-.94 2.06-2.06.94z\"/><path d=\"M17.41 7.96l-1.37-1.37c-.4-.4-.92-.59-1.43-.59-.52 0-1.04.2-1.43.59L10.3 9.45l-7.72 7.72c-.78.78-.78 2.05 0 2.83L4 21.41c.39.39.9.59 1.41.59.51 0 1.02-.2 1.41-.59l7.78-7.78 2.81-2.81c.8-.78.8-2.07 0-2.86zM5.41 20L4 18.59l7.72-7.72 1.47 1.35L5.41 20z\"/>\n",
              "  </svg>\n",
              "      </button>\n",
              "      \n",
              "  <style>\n",
              "    .colab-df-container {\n",
              "      display:flex;\n",
              "      flex-wrap:wrap;\n",
              "      gap: 12px;\n",
              "    }\n",
              "\n",
              "    .colab-df-convert {\n",
              "      background-color: #E8F0FE;\n",
              "      border: none;\n",
              "      border-radius: 50%;\n",
              "      cursor: pointer;\n",
              "      display: none;\n",
              "      fill: #1967D2;\n",
              "      height: 32px;\n",
              "      padding: 0 0 0 0;\n",
              "      width: 32px;\n",
              "    }\n",
              "\n",
              "    .colab-df-convert:hover {\n",
              "      background-color: #E2EBFA;\n",
              "      box-shadow: 0px 1px 2px rgba(60, 64, 67, 0.3), 0px 1px 3px 1px rgba(60, 64, 67, 0.15);\n",
              "      fill: #174EA6;\n",
              "    }\n",
              "\n",
              "    [theme=dark] .colab-df-convert {\n",
              "      background-color: #3B4455;\n",
              "      fill: #D2E3FC;\n",
              "    }\n",
              "\n",
              "    [theme=dark] .colab-df-convert:hover {\n",
              "      background-color: #434B5C;\n",
              "      box-shadow: 0px 1px 3px 1px rgba(0, 0, 0, 0.15);\n",
              "      filter: drop-shadow(0px 1px 2px rgba(0, 0, 0, 0.3));\n",
              "      fill: #FFFFFF;\n",
              "    }\n",
              "  </style>\n",
              "\n",
              "      <script>\n",
              "        const buttonEl =\n",
              "          document.querySelector('#df-5876a78d-6105-4151-8483-771512da7a8a button.colab-df-convert');\n",
              "        buttonEl.style.display =\n",
              "          google.colab.kernel.accessAllowed ? 'block' : 'none';\n",
              "\n",
              "        async function convertToInteractive(key) {\n",
              "          const element = document.querySelector('#df-5876a78d-6105-4151-8483-771512da7a8a');\n",
              "          const dataTable =\n",
              "            await google.colab.kernel.invokeFunction('convertToInteractive',\n",
              "                                                     [key], {});\n",
              "          if (!dataTable) return;\n",
              "\n",
              "          const docLinkHtml = 'Like what you see? Visit the ' +\n",
              "            '<a target=\"_blank\" href=https://colab.research.google.com/notebooks/data_table.ipynb>data table notebook</a>'\n",
              "            + ' to learn more about interactive tables.';\n",
              "          element.innerHTML = '';\n",
              "          dataTable['output_type'] = 'display_data';\n",
              "          await google.colab.output.renderOutput(dataTable, element);\n",
              "          const docLink = document.createElement('div');\n",
              "          docLink.innerHTML = docLinkHtml;\n",
              "          element.appendChild(docLink);\n",
              "        }\n",
              "      </script>\n",
              "    </div>\n",
              "  </div>\n",
              "  "
            ]
          },
          "metadata": {},
          "execution_count": 15
        }
      ]
    },
    {
      "cell_type": "markdown",
      "source": [
        "###DataSet Description"
      ],
      "metadata": {
        "id": "qQpiIZEg8yv-"
      }
    },
    {
      "cell_type": "code",
      "source": [
        "df.info()"
      ],
      "metadata": {
        "colab": {
          "base_uri": "https://localhost:8080/"
        },
        "id": "jDNbK6ZV8yO4",
        "outputId": "e40971cf-0356-4836-8d2a-eb2429574812"
      },
      "execution_count": 16,
      "outputs": [
        {
          "output_type": "stream",
          "name": "stdout",
          "text": [
            "<class 'pandas.core.frame.DataFrame'>\n",
            "RangeIndex: 1067 entries, 0 to 1066\n",
            "Data columns (total 13 columns):\n",
            " #   Column                    Non-Null Count  Dtype  \n",
            "---  ------                    --------------  -----  \n",
            " 0   MODELYEAR                 1067 non-null   int64  \n",
            " 1   MAKE                      1067 non-null   object \n",
            " 2   MODEL                     1067 non-null   object \n",
            " 3   VEHICLECLASS              1067 non-null   object \n",
            " 4   ENGINESIZE                1067 non-null   float64\n",
            " 5   CYLINDERS                 1067 non-null   int64  \n",
            " 6   TRANSMISSION              1067 non-null   object \n",
            " 7   FUELTYPE                  1067 non-null   object \n",
            " 8   FUELCONSUMPTION_CITY      1067 non-null   float64\n",
            " 9   FUELCONSUMPTION_HWY       1067 non-null   float64\n",
            " 10  FUELCONSUMPTION_COMB      1067 non-null   float64\n",
            " 11  FUELCONSUMPTION_COMB_MPG  1067 non-null   int64  \n",
            " 12  CO2EMISSIONS              1067 non-null   int64  \n",
            "dtypes: float64(4), int64(4), object(5)\n",
            "memory usage: 108.5+ KB\n"
          ]
        }
      ]
    },
    {
      "cell_type": "code",
      "source": [
        "df.describe(include='all').style.background_gradient('Reds')"
      ],
      "metadata": {
        "colab": {
          "base_uri": "https://localhost:8080/",
          "height": 432
        },
        "id": "nUHs38Qi9nWi",
        "outputId": "cc077ec5-f277-48e0-a79a-8d5ab91f2bbb"
      },
      "execution_count": 19,
      "outputs": [
        {
          "output_type": "execute_result",
          "data": {
            "text/plain": [
              "<pandas.io.formats.style.Styler at 0x7f7b40951490>"
            ],
            "text/html": [
              "<style type=\"text/css\">\n",
              "#T_72d3d_row0_col0 {\n",
              "  background-color: #f85f43;\n",
              "  color: #f1f1f1;\n",
              "}\n",
              "#T_72d3d_row0_col4, #T_72d3d_row0_col5, #T_72d3d_row0_col8, #T_72d3d_row0_col9, #T_72d3d_row0_col10, #T_72d3d_row0_col11, #T_72d3d_row0_col12, #T_72d3d_row4_col0, #T_72d3d_row6_col0, #T_72d3d_row7_col0, #T_72d3d_row8_col0, #T_72d3d_row9_col0, #T_72d3d_row10_col0 {\n",
              "  background-color: #67000d;\n",
              "  color: #f1f1f1;\n",
              "}\n",
              "#T_72d3d_row1_col0, #T_72d3d_row1_col4, #T_72d3d_row1_col5, #T_72d3d_row1_col8, #T_72d3d_row1_col9, #T_72d3d_row1_col10, #T_72d3d_row1_col11, #T_72d3d_row1_col12, #T_72d3d_row2_col0, #T_72d3d_row2_col4, #T_72d3d_row2_col5, #T_72d3d_row2_col8, #T_72d3d_row2_col9, #T_72d3d_row2_col10, #T_72d3d_row2_col11, #T_72d3d_row2_col12, #T_72d3d_row3_col0, #T_72d3d_row3_col4, #T_72d3d_row3_col5, #T_72d3d_row3_col8, #T_72d3d_row3_col9, #T_72d3d_row3_col10, #T_72d3d_row3_col11, #T_72d3d_row3_col12 {\n",
              "  background-color: #000000;\n",
              "  color: #f1f1f1;\n",
              "}\n",
              "#T_72d3d_row4_col4, #T_72d3d_row4_col5, #T_72d3d_row5_col0, #T_72d3d_row5_col4, #T_72d3d_row5_col5, #T_72d3d_row5_col8, #T_72d3d_row5_col9, #T_72d3d_row5_col10, #T_72d3d_row5_col11, #T_72d3d_row5_col12, #T_72d3d_row6_col4, #T_72d3d_row6_col5, #T_72d3d_row6_col8, #T_72d3d_row6_col9, #T_72d3d_row6_col10, #T_72d3d_row6_col11, #T_72d3d_row7_col4, #T_72d3d_row7_col5, #T_72d3d_row8_col4, #T_72d3d_row9_col4 {\n",
              "  background-color: #fff5f0;\n",
              "  color: #000000;\n",
              "}\n",
              "#T_72d3d_row4_col8, #T_72d3d_row8_col8, #T_72d3d_row9_col8, #T_72d3d_row9_col10, #T_72d3d_row10_col5 {\n",
              "  background-color: #fff4ee;\n",
              "  color: #000000;\n",
              "}\n",
              "#T_72d3d_row4_col9, #T_72d3d_row4_col10, #T_72d3d_row7_col8, #T_72d3d_row7_col9, #T_72d3d_row7_col10, #T_72d3d_row8_col5, #T_72d3d_row8_col9, #T_72d3d_row8_col10, #T_72d3d_row9_col5, #T_72d3d_row9_col9, #T_72d3d_row10_col4 {\n",
              "  background-color: #fff4ef;\n",
              "  color: #000000;\n",
              "}\n",
              "#T_72d3d_row4_col11, #T_72d3d_row8_col11, #T_72d3d_row10_col9 {\n",
              "  background-color: #fff2ec;\n",
              "  color: #000000;\n",
              "}\n",
              "#T_72d3d_row4_col12 {\n",
              "  background-color: #fdccb8;\n",
              "  color: #000000;\n",
              "}\n",
              "#T_72d3d_row6_col12 {\n",
              "  background-color: #ffeee6;\n",
              "  color: #000000;\n",
              "}\n",
              "#T_72d3d_row7_col11 {\n",
              "  background-color: #fff3ed;\n",
              "  color: #000000;\n",
              "}\n",
              "#T_72d3d_row7_col12 {\n",
              "  background-color: #fedbcc;\n",
              "  color: #000000;\n",
              "}\n",
              "#T_72d3d_row8_col12 {\n",
              "  background-color: #fdcebb;\n",
              "  color: #000000;\n",
              "}\n",
              "#T_72d3d_row9_col11, #T_72d3d_row10_col10 {\n",
              "  background-color: #fff2eb;\n",
              "  color: #000000;\n",
              "}\n",
              "#T_72d3d_row9_col12 {\n",
              "  background-color: #fcc2aa;\n",
              "  color: #000000;\n",
              "}\n",
              "#T_72d3d_row10_col8 {\n",
              "  background-color: #fff1ea;\n",
              "  color: #000000;\n",
              "}\n",
              "#T_72d3d_row10_col11 {\n",
              "  background-color: #ffede5;\n",
              "  color: #000000;\n",
              "}\n",
              "#T_72d3d_row10_col12 {\n",
              "  background-color: #fc8262;\n",
              "  color: #f1f1f1;\n",
              "}\n",
              "</style>\n",
              "<table id=\"T_72d3d_\" class=\"dataframe\">\n",
              "  <thead>\n",
              "    <tr>\n",
              "      <th class=\"blank level0\" >&nbsp;</th>\n",
              "      <th class=\"col_heading level0 col0\" >MODELYEAR</th>\n",
              "      <th class=\"col_heading level0 col1\" >MAKE</th>\n",
              "      <th class=\"col_heading level0 col2\" >MODEL</th>\n",
              "      <th class=\"col_heading level0 col3\" >VEHICLECLASS</th>\n",
              "      <th class=\"col_heading level0 col4\" >ENGINESIZE</th>\n",
              "      <th class=\"col_heading level0 col5\" >CYLINDERS</th>\n",
              "      <th class=\"col_heading level0 col6\" >TRANSMISSION</th>\n",
              "      <th class=\"col_heading level0 col7\" >FUELTYPE</th>\n",
              "      <th class=\"col_heading level0 col8\" >FUELCONSUMPTION_CITY</th>\n",
              "      <th class=\"col_heading level0 col9\" >FUELCONSUMPTION_HWY</th>\n",
              "      <th class=\"col_heading level0 col10\" >FUELCONSUMPTION_COMB</th>\n",
              "      <th class=\"col_heading level0 col11\" >FUELCONSUMPTION_COMB_MPG</th>\n",
              "      <th class=\"col_heading level0 col12\" >CO2EMISSIONS</th>\n",
              "    </tr>\n",
              "  </thead>\n",
              "  <tbody>\n",
              "    <tr>\n",
              "      <th id=\"T_72d3d_level0_row0\" class=\"row_heading level0 row0\" >count</th>\n",
              "      <td id=\"T_72d3d_row0_col0\" class=\"data row0 col0\" >1067.000000</td>\n",
              "      <td id=\"T_72d3d_row0_col1\" class=\"data row0 col1\" >1067</td>\n",
              "      <td id=\"T_72d3d_row0_col2\" class=\"data row0 col2\" >1067</td>\n",
              "      <td id=\"T_72d3d_row0_col3\" class=\"data row0 col3\" >1067</td>\n",
              "      <td id=\"T_72d3d_row0_col4\" class=\"data row0 col4\" >1067.000000</td>\n",
              "      <td id=\"T_72d3d_row0_col5\" class=\"data row0 col5\" >1067.000000</td>\n",
              "      <td id=\"T_72d3d_row0_col6\" class=\"data row0 col6\" >1067</td>\n",
              "      <td id=\"T_72d3d_row0_col7\" class=\"data row0 col7\" >1067</td>\n",
              "      <td id=\"T_72d3d_row0_col8\" class=\"data row0 col8\" >1067.000000</td>\n",
              "      <td id=\"T_72d3d_row0_col9\" class=\"data row0 col9\" >1067.000000</td>\n",
              "      <td id=\"T_72d3d_row0_col10\" class=\"data row0 col10\" >1067.000000</td>\n",
              "      <td id=\"T_72d3d_row0_col11\" class=\"data row0 col11\" >1067.000000</td>\n",
              "      <td id=\"T_72d3d_row0_col12\" class=\"data row0 col12\" >1067.000000</td>\n",
              "    </tr>\n",
              "    <tr>\n",
              "      <th id=\"T_72d3d_level0_row1\" class=\"row_heading level0 row1\" >unique</th>\n",
              "      <td id=\"T_72d3d_row1_col0\" class=\"data row1 col0\" >nan</td>\n",
              "      <td id=\"T_72d3d_row1_col1\" class=\"data row1 col1\" >39</td>\n",
              "      <td id=\"T_72d3d_row1_col2\" class=\"data row1 col2\" >663</td>\n",
              "      <td id=\"T_72d3d_row1_col3\" class=\"data row1 col3\" >16</td>\n",
              "      <td id=\"T_72d3d_row1_col4\" class=\"data row1 col4\" >nan</td>\n",
              "      <td id=\"T_72d3d_row1_col5\" class=\"data row1 col5\" >nan</td>\n",
              "      <td id=\"T_72d3d_row1_col6\" class=\"data row1 col6\" >22</td>\n",
              "      <td id=\"T_72d3d_row1_col7\" class=\"data row1 col7\" >4</td>\n",
              "      <td id=\"T_72d3d_row1_col8\" class=\"data row1 col8\" >nan</td>\n",
              "      <td id=\"T_72d3d_row1_col9\" class=\"data row1 col9\" >nan</td>\n",
              "      <td id=\"T_72d3d_row1_col10\" class=\"data row1 col10\" >nan</td>\n",
              "      <td id=\"T_72d3d_row1_col11\" class=\"data row1 col11\" >nan</td>\n",
              "      <td id=\"T_72d3d_row1_col12\" class=\"data row1 col12\" >nan</td>\n",
              "    </tr>\n",
              "    <tr>\n",
              "      <th id=\"T_72d3d_level0_row2\" class=\"row_heading level0 row2\" >top</th>\n",
              "      <td id=\"T_72d3d_row2_col0\" class=\"data row2 col0\" >nan</td>\n",
              "      <td id=\"T_72d3d_row2_col1\" class=\"data row2 col1\" >FORD</td>\n",
              "      <td id=\"T_72d3d_row2_col2\" class=\"data row2 col2\" >F150 FFV</td>\n",
              "      <td id=\"T_72d3d_row2_col3\" class=\"data row2 col3\" >MID-SIZE</td>\n",
              "      <td id=\"T_72d3d_row2_col4\" class=\"data row2 col4\" >nan</td>\n",
              "      <td id=\"T_72d3d_row2_col5\" class=\"data row2 col5\" >nan</td>\n",
              "      <td id=\"T_72d3d_row2_col6\" class=\"data row2 col6\" >A6</td>\n",
              "      <td id=\"T_72d3d_row2_col7\" class=\"data row2 col7\" >X</td>\n",
              "      <td id=\"T_72d3d_row2_col8\" class=\"data row2 col8\" >nan</td>\n",
              "      <td id=\"T_72d3d_row2_col9\" class=\"data row2 col9\" >nan</td>\n",
              "      <td id=\"T_72d3d_row2_col10\" class=\"data row2 col10\" >nan</td>\n",
              "      <td id=\"T_72d3d_row2_col11\" class=\"data row2 col11\" >nan</td>\n",
              "      <td id=\"T_72d3d_row2_col12\" class=\"data row2 col12\" >nan</td>\n",
              "    </tr>\n",
              "    <tr>\n",
              "      <th id=\"T_72d3d_level0_row3\" class=\"row_heading level0 row3\" >freq</th>\n",
              "      <td id=\"T_72d3d_row3_col0\" class=\"data row3 col0\" >nan</td>\n",
              "      <td id=\"T_72d3d_row3_col1\" class=\"data row3 col1\" >90</td>\n",
              "      <td id=\"T_72d3d_row3_col2\" class=\"data row3 col2\" >8</td>\n",
              "      <td id=\"T_72d3d_row3_col3\" class=\"data row3 col3\" >178</td>\n",
              "      <td id=\"T_72d3d_row3_col4\" class=\"data row3 col4\" >nan</td>\n",
              "      <td id=\"T_72d3d_row3_col5\" class=\"data row3 col5\" >nan</td>\n",
              "      <td id=\"T_72d3d_row3_col6\" class=\"data row3 col6\" >222</td>\n",
              "      <td id=\"T_72d3d_row3_col7\" class=\"data row3 col7\" >514</td>\n",
              "      <td id=\"T_72d3d_row3_col8\" class=\"data row3 col8\" >nan</td>\n",
              "      <td id=\"T_72d3d_row3_col9\" class=\"data row3 col9\" >nan</td>\n",
              "      <td id=\"T_72d3d_row3_col10\" class=\"data row3 col10\" >nan</td>\n",
              "      <td id=\"T_72d3d_row3_col11\" class=\"data row3 col11\" >nan</td>\n",
              "      <td id=\"T_72d3d_row3_col12\" class=\"data row3 col12\" >nan</td>\n",
              "    </tr>\n",
              "    <tr>\n",
              "      <th id=\"T_72d3d_level0_row4\" class=\"row_heading level0 row4\" >mean</th>\n",
              "      <td id=\"T_72d3d_row4_col0\" class=\"data row4 col0\" >2014.000000</td>\n",
              "      <td id=\"T_72d3d_row4_col1\" class=\"data row4 col1\" >nan</td>\n",
              "      <td id=\"T_72d3d_row4_col2\" class=\"data row4 col2\" >nan</td>\n",
              "      <td id=\"T_72d3d_row4_col3\" class=\"data row4 col3\" >nan</td>\n",
              "      <td id=\"T_72d3d_row4_col4\" class=\"data row4 col4\" >3.346298</td>\n",
              "      <td id=\"T_72d3d_row4_col5\" class=\"data row4 col5\" >5.794752</td>\n",
              "      <td id=\"T_72d3d_row4_col6\" class=\"data row4 col6\" >nan</td>\n",
              "      <td id=\"T_72d3d_row4_col7\" class=\"data row4 col7\" >nan</td>\n",
              "      <td id=\"T_72d3d_row4_col8\" class=\"data row4 col8\" >13.296532</td>\n",
              "      <td id=\"T_72d3d_row4_col9\" class=\"data row4 col9\" >9.474602</td>\n",
              "      <td id=\"T_72d3d_row4_col10\" class=\"data row4 col10\" >11.580881</td>\n",
              "      <td id=\"T_72d3d_row4_col11\" class=\"data row4 col11\" >26.441425</td>\n",
              "      <td id=\"T_72d3d_row4_col12\" class=\"data row4 col12\" >256.228679</td>\n",
              "    </tr>\n",
              "    <tr>\n",
              "      <th id=\"T_72d3d_level0_row5\" class=\"row_heading level0 row5\" >std</th>\n",
              "      <td id=\"T_72d3d_row5_col0\" class=\"data row5 col0\" >0.000000</td>\n",
              "      <td id=\"T_72d3d_row5_col1\" class=\"data row5 col1\" >nan</td>\n",
              "      <td id=\"T_72d3d_row5_col2\" class=\"data row5 col2\" >nan</td>\n",
              "      <td id=\"T_72d3d_row5_col3\" class=\"data row5 col3\" >nan</td>\n",
              "      <td id=\"T_72d3d_row5_col4\" class=\"data row5 col4\" >1.415895</td>\n",
              "      <td id=\"T_72d3d_row5_col5\" class=\"data row5 col5\" >1.797447</td>\n",
              "      <td id=\"T_72d3d_row5_col6\" class=\"data row5 col6\" >nan</td>\n",
              "      <td id=\"T_72d3d_row5_col7\" class=\"data row5 col7\" >nan</td>\n",
              "      <td id=\"T_72d3d_row5_col8\" class=\"data row5 col8\" >4.101253</td>\n",
              "      <td id=\"T_72d3d_row5_col9\" class=\"data row5 col9\" >2.794510</td>\n",
              "      <td id=\"T_72d3d_row5_col10\" class=\"data row5 col10\" >3.485595</td>\n",
              "      <td id=\"T_72d3d_row5_col11\" class=\"data row5 col11\" >7.468702</td>\n",
              "      <td id=\"T_72d3d_row5_col12\" class=\"data row5 col12\" >63.372304</td>\n",
              "    </tr>\n",
              "    <tr>\n",
              "      <th id=\"T_72d3d_level0_row6\" class=\"row_heading level0 row6\" >min</th>\n",
              "      <td id=\"T_72d3d_row6_col0\" class=\"data row6 col0\" >2014.000000</td>\n",
              "      <td id=\"T_72d3d_row6_col1\" class=\"data row6 col1\" >nan</td>\n",
              "      <td id=\"T_72d3d_row6_col2\" class=\"data row6 col2\" >nan</td>\n",
              "      <td id=\"T_72d3d_row6_col3\" class=\"data row6 col3\" >nan</td>\n",
              "      <td id=\"T_72d3d_row6_col4\" class=\"data row6 col4\" >1.000000</td>\n",
              "      <td id=\"T_72d3d_row6_col5\" class=\"data row6 col5\" >3.000000</td>\n",
              "      <td id=\"T_72d3d_row6_col6\" class=\"data row6 col6\" >nan</td>\n",
              "      <td id=\"T_72d3d_row6_col7\" class=\"data row6 col7\" >nan</td>\n",
              "      <td id=\"T_72d3d_row6_col8\" class=\"data row6 col8\" >4.600000</td>\n",
              "      <td id=\"T_72d3d_row6_col9\" class=\"data row6 col9\" >4.900000</td>\n",
              "      <td id=\"T_72d3d_row6_col10\" class=\"data row6 col10\" >4.700000</td>\n",
              "      <td id=\"T_72d3d_row6_col11\" class=\"data row6 col11\" >11.000000</td>\n",
              "      <td id=\"T_72d3d_row6_col12\" class=\"data row6 col12\" >108.000000</td>\n",
              "    </tr>\n",
              "    <tr>\n",
              "      <th id=\"T_72d3d_level0_row7\" class=\"row_heading level0 row7\" >25%</th>\n",
              "      <td id=\"T_72d3d_row7_col0\" class=\"data row7 col0\" >2014.000000</td>\n",
              "      <td id=\"T_72d3d_row7_col1\" class=\"data row7 col1\" >nan</td>\n",
              "      <td id=\"T_72d3d_row7_col2\" class=\"data row7 col2\" >nan</td>\n",
              "      <td id=\"T_72d3d_row7_col3\" class=\"data row7 col3\" >nan</td>\n",
              "      <td id=\"T_72d3d_row7_col4\" class=\"data row7 col4\" >2.000000</td>\n",
              "      <td id=\"T_72d3d_row7_col5\" class=\"data row7 col5\" >4.000000</td>\n",
              "      <td id=\"T_72d3d_row7_col6\" class=\"data row7 col6\" >nan</td>\n",
              "      <td id=\"T_72d3d_row7_col7\" class=\"data row7 col7\" >nan</td>\n",
              "      <td id=\"T_72d3d_row7_col8\" class=\"data row7 col8\" >10.250000</td>\n",
              "      <td id=\"T_72d3d_row7_col9\" class=\"data row7 col9\" >7.500000</td>\n",
              "      <td id=\"T_72d3d_row7_col10\" class=\"data row7 col10\" >9.000000</td>\n",
              "      <td id=\"T_72d3d_row7_col11\" class=\"data row7 col11\" >21.000000</td>\n",
              "      <td id=\"T_72d3d_row7_col12\" class=\"data row7 col12\" >207.000000</td>\n",
              "    </tr>\n",
              "    <tr>\n",
              "      <th id=\"T_72d3d_level0_row8\" class=\"row_heading level0 row8\" >50%</th>\n",
              "      <td id=\"T_72d3d_row8_col0\" class=\"data row8 col0\" >2014.000000</td>\n",
              "      <td id=\"T_72d3d_row8_col1\" class=\"data row8 col1\" >nan</td>\n",
              "      <td id=\"T_72d3d_row8_col2\" class=\"data row8 col2\" >nan</td>\n",
              "      <td id=\"T_72d3d_row8_col3\" class=\"data row8 col3\" >nan</td>\n",
              "      <td id=\"T_72d3d_row8_col4\" class=\"data row8 col4\" >3.400000</td>\n",
              "      <td id=\"T_72d3d_row8_col5\" class=\"data row8 col5\" >6.000000</td>\n",
              "      <td id=\"T_72d3d_row8_col6\" class=\"data row8 col6\" >nan</td>\n",
              "      <td id=\"T_72d3d_row8_col7\" class=\"data row8 col7\" >nan</td>\n",
              "      <td id=\"T_72d3d_row8_col8\" class=\"data row8 col8\" >12.600000</td>\n",
              "      <td id=\"T_72d3d_row8_col9\" class=\"data row8 col9\" >8.800000</td>\n",
              "      <td id=\"T_72d3d_row8_col10\" class=\"data row8 col10\" >10.900000</td>\n",
              "      <td id=\"T_72d3d_row8_col11\" class=\"data row8 col11\" >26.000000</td>\n",
              "      <td id=\"T_72d3d_row8_col12\" class=\"data row8 col12\" >251.000000</td>\n",
              "    </tr>\n",
              "    <tr>\n",
              "      <th id=\"T_72d3d_level0_row9\" class=\"row_heading level0 row9\" >75%</th>\n",
              "      <td id=\"T_72d3d_row9_col0\" class=\"data row9 col0\" >2014.000000</td>\n",
              "      <td id=\"T_72d3d_row9_col1\" class=\"data row9 col1\" >nan</td>\n",
              "      <td id=\"T_72d3d_row9_col2\" class=\"data row9 col2\" >nan</td>\n",
              "      <td id=\"T_72d3d_row9_col3\" class=\"data row9 col3\" >nan</td>\n",
              "      <td id=\"T_72d3d_row9_col4\" class=\"data row9 col4\" >4.300000</td>\n",
              "      <td id=\"T_72d3d_row9_col5\" class=\"data row9 col5\" >8.000000</td>\n",
              "      <td id=\"T_72d3d_row9_col6\" class=\"data row9 col6\" >nan</td>\n",
              "      <td id=\"T_72d3d_row9_col7\" class=\"data row9 col7\" >nan</td>\n",
              "      <td id=\"T_72d3d_row9_col8\" class=\"data row9 col8\" >15.550000</td>\n",
              "      <td id=\"T_72d3d_row9_col9\" class=\"data row9 col9\" >10.850000</td>\n",
              "      <td id=\"T_72d3d_row9_col10\" class=\"data row9 col10\" >13.350000</td>\n",
              "      <td id=\"T_72d3d_row9_col11\" class=\"data row9 col11\" >31.000000</td>\n",
              "      <td id=\"T_72d3d_row9_col12\" class=\"data row9 col12\" >294.000000</td>\n",
              "    </tr>\n",
              "    <tr>\n",
              "      <th id=\"T_72d3d_level0_row10\" class=\"row_heading level0 row10\" >max</th>\n",
              "      <td id=\"T_72d3d_row10_col0\" class=\"data row10 col0\" >2014.000000</td>\n",
              "      <td id=\"T_72d3d_row10_col1\" class=\"data row10 col1\" >nan</td>\n",
              "      <td id=\"T_72d3d_row10_col2\" class=\"data row10 col2\" >nan</td>\n",
              "      <td id=\"T_72d3d_row10_col3\" class=\"data row10 col3\" >nan</td>\n",
              "      <td id=\"T_72d3d_row10_col4\" class=\"data row10 col4\" >8.400000</td>\n",
              "      <td id=\"T_72d3d_row10_col5\" class=\"data row10 col5\" >12.000000</td>\n",
              "      <td id=\"T_72d3d_row10_col6\" class=\"data row10 col6\" >nan</td>\n",
              "      <td id=\"T_72d3d_row10_col7\" class=\"data row10 col7\" >nan</td>\n",
              "      <td id=\"T_72d3d_row10_col8\" class=\"data row10 col8\" >30.200000</td>\n",
              "      <td id=\"T_72d3d_row10_col9\" class=\"data row10 col9\" >20.500000</td>\n",
              "      <td id=\"T_72d3d_row10_col10\" class=\"data row10 col10\" >25.800000</td>\n",
              "      <td id=\"T_72d3d_row10_col11\" class=\"data row10 col11\" >60.000000</td>\n",
              "      <td id=\"T_72d3d_row10_col12\" class=\"data row10 col12\" >488.000000</td>\n",
              "    </tr>\n",
              "  </tbody>\n",
              "</table>\n"
            ]
          },
          "metadata": {},
          "execution_count": 19
        }
      ]
    },
    {
      "metadata": {
        "id": "VKX0GL7x6upL"
      },
      "cell_type": "markdown",
      "source": [
        "Selecting features for regression.\n"
      ]
    },
    {
      "metadata": {
        "button": false,
        "new_sheet": false,
        "run_control": {
          "read_only": false
        },
        "id": "4_cDNzyH6upM",
        "outputId": "cbc1a60e-3189-4499-a3fd-fad607f9e278",
        "colab": {
          "base_uri": "https://localhost:8080/",
          "height": 206
        }
      },
      "cell_type": "code",
      "source": [
        "df = df[['ENGINESIZE','CYLINDERS','FUELCONSUMPTION_COMB','CO2EMISSIONS']]\n",
        "df.head()"
      ],
      "execution_count": 22,
      "outputs": [
        {
          "output_type": "execute_result",
          "data": {
            "text/plain": [
              "   ENGINESIZE  CYLINDERS  FUELCONSUMPTION_COMB  CO2EMISSIONS\n",
              "0         2.0          4                   8.5           196\n",
              "1         2.4          4                   9.6           221\n",
              "2         1.5          4                   5.9           136\n",
              "3         3.5          6                  11.1           255\n",
              "4         3.5          6                  10.6           244"
            ],
            "text/html": [
              "\n",
              "  <div id=\"df-99509b07-c6ea-45fd-8bf8-b3ce2e698838\">\n",
              "    <div class=\"colab-df-container\">\n",
              "      <div>\n",
              "<style scoped>\n",
              "    .dataframe tbody tr th:only-of-type {\n",
              "        vertical-align: middle;\n",
              "    }\n",
              "\n",
              "    .dataframe tbody tr th {\n",
              "        vertical-align: top;\n",
              "    }\n",
              "\n",
              "    .dataframe thead th {\n",
              "        text-align: right;\n",
              "    }\n",
              "</style>\n",
              "<table border=\"1\" class=\"dataframe\">\n",
              "  <thead>\n",
              "    <tr style=\"text-align: right;\">\n",
              "      <th></th>\n",
              "      <th>ENGINESIZE</th>\n",
              "      <th>CYLINDERS</th>\n",
              "      <th>FUELCONSUMPTION_COMB</th>\n",
              "      <th>CO2EMISSIONS</th>\n",
              "    </tr>\n",
              "  </thead>\n",
              "  <tbody>\n",
              "    <tr>\n",
              "      <th>0</th>\n",
              "      <td>2.0</td>\n",
              "      <td>4</td>\n",
              "      <td>8.5</td>\n",
              "      <td>196</td>\n",
              "    </tr>\n",
              "    <tr>\n",
              "      <th>1</th>\n",
              "      <td>2.4</td>\n",
              "      <td>4</td>\n",
              "      <td>9.6</td>\n",
              "      <td>221</td>\n",
              "    </tr>\n",
              "    <tr>\n",
              "      <th>2</th>\n",
              "      <td>1.5</td>\n",
              "      <td>4</td>\n",
              "      <td>5.9</td>\n",
              "      <td>136</td>\n",
              "    </tr>\n",
              "    <tr>\n",
              "      <th>3</th>\n",
              "      <td>3.5</td>\n",
              "      <td>6</td>\n",
              "      <td>11.1</td>\n",
              "      <td>255</td>\n",
              "    </tr>\n",
              "    <tr>\n",
              "      <th>4</th>\n",
              "      <td>3.5</td>\n",
              "      <td>6</td>\n",
              "      <td>10.6</td>\n",
              "      <td>244</td>\n",
              "    </tr>\n",
              "  </tbody>\n",
              "</table>\n",
              "</div>\n",
              "      <button class=\"colab-df-convert\" onclick=\"convertToInteractive('df-99509b07-c6ea-45fd-8bf8-b3ce2e698838')\"\n",
              "              title=\"Convert this dataframe to an interactive table.\"\n",
              "              style=\"display:none;\">\n",
              "        \n",
              "  <svg xmlns=\"http://www.w3.org/2000/svg\" height=\"24px\"viewBox=\"0 0 24 24\"\n",
              "       width=\"24px\">\n",
              "    <path d=\"M0 0h24v24H0V0z\" fill=\"none\"/>\n",
              "    <path d=\"M18.56 5.44l.94 2.06.94-2.06 2.06-.94-2.06-.94-.94-2.06-.94 2.06-2.06.94zm-11 1L8.5 8.5l.94-2.06 2.06-.94-2.06-.94L8.5 2.5l-.94 2.06-2.06.94zm10 10l.94 2.06.94-2.06 2.06-.94-2.06-.94-.94-2.06-.94 2.06-2.06.94z\"/><path d=\"M17.41 7.96l-1.37-1.37c-.4-.4-.92-.59-1.43-.59-.52 0-1.04.2-1.43.59L10.3 9.45l-7.72 7.72c-.78.78-.78 2.05 0 2.83L4 21.41c.39.39.9.59 1.41.59.51 0 1.02-.2 1.41-.59l7.78-7.78 2.81-2.81c.8-.78.8-2.07 0-2.86zM5.41 20L4 18.59l7.72-7.72 1.47 1.35L5.41 20z\"/>\n",
              "  </svg>\n",
              "      </button>\n",
              "      \n",
              "  <style>\n",
              "    .colab-df-container {\n",
              "      display:flex;\n",
              "      flex-wrap:wrap;\n",
              "      gap: 12px;\n",
              "    }\n",
              "\n",
              "    .colab-df-convert {\n",
              "      background-color: #E8F0FE;\n",
              "      border: none;\n",
              "      border-radius: 50%;\n",
              "      cursor: pointer;\n",
              "      display: none;\n",
              "      fill: #1967D2;\n",
              "      height: 32px;\n",
              "      padding: 0 0 0 0;\n",
              "      width: 32px;\n",
              "    }\n",
              "\n",
              "    .colab-df-convert:hover {\n",
              "      background-color: #E2EBFA;\n",
              "      box-shadow: 0px 1px 2px rgba(60, 64, 67, 0.3), 0px 1px 3px 1px rgba(60, 64, 67, 0.15);\n",
              "      fill: #174EA6;\n",
              "    }\n",
              "\n",
              "    [theme=dark] .colab-df-convert {\n",
              "      background-color: #3B4455;\n",
              "      fill: #D2E3FC;\n",
              "    }\n",
              "\n",
              "    [theme=dark] .colab-df-convert:hover {\n",
              "      background-color: #434B5C;\n",
              "      box-shadow: 0px 1px 3px 1px rgba(0, 0, 0, 0.15);\n",
              "      filter: drop-shadow(0px 1px 2px rgba(0, 0, 0, 0.3));\n",
              "      fill: #FFFFFF;\n",
              "    }\n",
              "  </style>\n",
              "\n",
              "      <script>\n",
              "        const buttonEl =\n",
              "          document.querySelector('#df-99509b07-c6ea-45fd-8bf8-b3ce2e698838 button.colab-df-convert');\n",
              "        buttonEl.style.display =\n",
              "          google.colab.kernel.accessAllowed ? 'block' : 'none';\n",
              "\n",
              "        async function convertToInteractive(key) {\n",
              "          const element = document.querySelector('#df-99509b07-c6ea-45fd-8bf8-b3ce2e698838');\n",
              "          const dataTable =\n",
              "            await google.colab.kernel.invokeFunction('convertToInteractive',\n",
              "                                                     [key], {});\n",
              "          if (!dataTable) return;\n",
              "\n",
              "          const docLinkHtml = 'Like what you see? Visit the ' +\n",
              "            '<a target=\"_blank\" href=https://colab.research.google.com/notebooks/data_table.ipynb>data table notebook</a>'\n",
              "            + ' to learn more about interactive tables.';\n",
              "          element.innerHTML = '';\n",
              "          dataTable['output_type'] = 'display_data';\n",
              "          await google.colab.output.renderOutput(dataTable, element);\n",
              "          const docLink = document.createElement('div');\n",
              "          docLink.innerHTML = docLinkHtml;\n",
              "          element.appendChild(docLink);\n",
              "        }\n",
              "      </script>\n",
              "    </div>\n",
              "  </div>\n",
              "  "
            ]
          },
          "metadata": {},
          "execution_count": 22
        }
      ]
    },
    {
      "metadata": {
        "id": "zjlLZ0iz6upM"
      },
      "cell_type": "markdown",
      "source": [
        "Let's plot Emission values with respect to ENGINESIZE , CYLINDERS & FUELCONSUMPTION_COMB:\n"
      ]
    },
    {
      "cell_type": "code",
      "source": [
        "sns.regplot(data=df,y=df.CO2EMISSIONS,x=df.ENGINESIZE,scatter_kws={\"color\": \"black\"}, line_kws={\"color\": \"red\"})"
      ],
      "metadata": {
        "colab": {
          "base_uri": "https://localhost:8080/",
          "height": 297
        },
        "id": "DniK4Qpq_Nf5",
        "outputId": "6d6debb3-f935-45cc-ae5c-56bc0da8c1d4"
      },
      "execution_count": 40,
      "outputs": [
        {
          "output_type": "execute_result",
          "data": {
            "text/plain": [
              "<matplotlib.axes._subplots.AxesSubplot at 0x7f7b2ef71750>"
            ]
          },
          "metadata": {},
          "execution_count": 40
        },
        {
          "output_type": "display_data",
          "data": {
            "text/plain": [
              "<Figure size 432x288 with 1 Axes>"
            ],
            "image/png": "[encoded data removed]"
          },
          "metadata": {
            "needs_background": "light"
          }
        }
      ]
    },
    {
      "cell_type": "code",
      "source": [
        "sns.regplot(data=df,y=df.CO2EMISSIONS,x=df.CYLINDERS,scatter_kws={\"color\": \"black\"}, line_kws={\"color\": \"red\"})"
      ],
      "metadata": {
        "colab": {
          "base_uri": "https://localhost:8080/",
          "height": 297
        },
        "id": "bVt4Qzoa_6GY",
        "outputId": "7c021473-dffe-4e1d-83e0-392fbf5323b1"
      },
      "execution_count": 41,
      "outputs": [
        {
          "output_type": "execute_result",
          "data": {
            "text/plain": [
              "<matplotlib.axes._subplots.AxesSubplot at 0x7f7b2eeeec10>"
            ]
          },
          "metadata": {},
          "execution_count": 41
        },
        {
          "output_type": "display_data",
          "data": {
            "text/plain": [
              "<Figure size 432x288 with 1 Axes>"
            ],
            "image/png": "[encoded data removed]"
          },
          "metadata": {
            "needs_background": "light"
          }
        }
      ]
    },
    {
      "cell_type": "code",
      "source": [
        "sns.regplot(data=df,y=df.CO2EMISSIONS,x=df.FUELCONSUMPTION_COMB,scatter_kws={\"color\": \"black\"}, line_kws={\"color\": \"red\"})"
      ],
      "metadata": {
        "colab": {
          "base_uri": "https://localhost:8080/",
          "height": 297
        },
        "id": "cZgP-fEfADoW",
        "outputId": "81caac4f-66f7-4614-8619-9afa3dc95bc1"
      },
      "execution_count": 42,
      "outputs": [
        {
          "output_type": "execute_result",
          "data": {
            "text/plain": [
              "<matplotlib.axes._subplots.AxesSubplot at 0x7f7b2ee6e990>"
            ]
          },
          "metadata": {},
          "execution_count": 42
        },
        {
          "output_type": "display_data",
          "data": {
            "text/plain": [
              "<Figure size 432x288 with 1 Axes>"
            ],
            "image/png": "[encoded data removed]"
          },
          "metadata": {
            "needs_background": "light"
          }
        }
      ]
    },
    {
      "cell_type": "markdown",
      "source": [
        "### Extracting X & Y Features"
      ],
      "metadata": {
        "id": "69eWfOPFB3dY"
      }
    },
    {
      "cell_type": "code",
      "source": [
        "df.columns"
      ],
      "metadata": {
        "colab": {
          "base_uri": "https://localhost:8080/"
        },
        "id": "3n9DbH6aB857",
        "outputId": "ba0f9566-a795-40d9-d0d9-a207ff2b36dc"
      },
      "execution_count": 44,
      "outputs": [
        {
          "output_type": "execute_result",
          "data": {
            "text/plain": [
              "Index(['ENGINESIZE', 'CYLINDERS', 'FUELCONSUMPTION_COMB', 'CO2EMISSIONS'], dtype='object')"
            ]
          },
          "metadata": {},
          "execution_count": 44
        }
      ]
    },
    {
      "cell_type": "code",
      "source": [
        "X = df[['ENGINESIZE', 'CYLINDERS', 'FUELCONSUMPTION_COMB']].values\n",
        "X[0:5]"
      ],
      "metadata": {
        "colab": {
          "base_uri": "https://localhost:8080/"
        },
        "id": "-k-QqfYuB7U3",
        "outputId": "719a2011-d7e3-43ef-b507-6e0fde93d1e4"
      },
      "execution_count": 48,
      "outputs": [
        {
          "output_type": "execute_result",
          "data": {
            "text/plain": [
              "array([[ 2. ,  4. ,  8.5],\n",
              "       [ 2.4,  4. ,  9.6],\n",
              "       [ 1.5,  4. ,  5.9],\n",
              "       [ 3.5,  6. , 11.1],\n",
              "       [ 3.5,  6. , 10.6]])"
            ]
          },
          "metadata": {},
          "execution_count": 48
        }
      ]
    },
    {
      "cell_type": "code",
      "source": [
        "Y = df[['CO2EMISSIONS']].values\n",
        "Y[0:5]"
      ],
      "metadata": {
        "colab": {
          "base_uri": "https://localhost:8080/"
        },
        "id": "c1JNmDyvCG3k",
        "outputId": "1c2e55b1-4526-4d1c-c240-3324ef19025a"
      },
      "execution_count": 49,
      "outputs": [
        {
          "output_type": "execute_result",
          "data": {
            "text/plain": [
              "array([[196],\n",
              "       [221],\n",
              "       [136],\n",
              "       [255],\n",
              "       [244]])"
            ]
          },
          "metadata": {},
          "execution_count": 49
        }
      ]
    },
    {
      "metadata": {
        "button": false,
        "new_sheet": false,
        "run_control": {
          "read_only": false
        },
        "id": "H54Y7EeL6upO"
      },
      "cell_type": "markdown",
      "source": [
        "#### Train and test dataset\n"
      ]
    },
    {
      "metadata": {
        "button": false,
        "new_sheet": false,
        "run_control": {
          "read_only": false
        },
        "id": "75mPeAZ46upO"
      },
      "cell_type": "code",
      "source": [
        "from sklearn.model_selection import train_test_split\n",
        "X_train,X_test,Y_train,Y_test = train_test_split(X,Y,test_size=0.2,random_state=4)\n",
        "#random state means on multiple (4) calls it should return same split data"
      ],
      "execution_count": 50,
      "outputs": []
    },
    {
      "metadata": {
        "button": false,
        "new_sheet": false,
        "run_control": {
          "read_only": false
        },
        "id": "q4AxVlea6upP"
      },
      "cell_type": "markdown",
      "source": [
        "#### Train data distribution\n"
      ]
    },
    {
      "cell_type": "code",
      "source": [
        "from sklearn import linear_model\n",
        "MLinReg = linear_model.LinearRegression().fit(X_train, Y_train)"
      ],
      "metadata": {
        "id": "uD6H9cVgDuUJ"
      },
      "execution_count": 54,
      "outputs": []
    },
    {
      "cell_type": "code",
      "source": [
        "MLinReg.intercept_"
      ],
      "metadata": {
        "colab": {
          "base_uri": "https://localhost:8080/"
        },
        "id": "0AKiMJoiEIja",
        "outputId": "e1f63e02-f0c5-4387-a2e1-48cd80fc31a7"
      },
      "execution_count": 56,
      "outputs": [
        {
          "output_type": "execute_result",
          "data": {
            "text/plain": [
              "array([65.2578757])"
            ]
          },
          "metadata": {},
          "execution_count": 56
        }
      ]
    },
    {
      "cell_type": "code",
      "source": [
        "MLinReg.coef_"
      ],
      "metadata": {
        "colab": {
          "base_uri": "https://localhost:8080/"
        },
        "id": "fvR9dN5cEFvN",
        "outputId": "833dfdeb-dccf-41fb-9be4-e17cd520609c"
      },
      "execution_count": 55,
      "outputs": [
        {
          "output_type": "execute_result",
          "data": {
            "text/plain": [
              "array([[10.24537129,  7.64355532,  9.68132732]])"
            ]
          },
          "metadata": {},
          "execution_count": 55
        }
      ]
    },
    {
      "metadata": {
        "id": "LW1WEc4x6upT"
      },
      "cell_type": "markdown",
      "source": [
        "<h2 id=\"prediction\">Prediction</h2>\n"
      ]
    },
    {
      "metadata": {
        "button": false,
        "new_sheet": false,
        "run_control": {
          "read_only": false
        },
        "id": "EVMcaUIa6upT",
        "outputId": "528e75fa-b76e-445a-e95b-b875a30c913a",
        "colab": {
          "base_uri": "https://localhost:8080/"
        }
      },
      "cell_type": "code",
      "source": [
        "Y_hat= MLinReg.predict(X_test)\n",
        "Y_hat[0:5]"
      ],
      "execution_count": 58,
      "outputs": [
        {
          "output_type": "execute_result",
          "data": {
            "text/plain": [
              "array([[259.39421287],\n",
              "       [216.04051098],\n",
              "       [255.40887315],\n",
              "       [261.21766954],\n",
              "       [294.43880893]])"
            ]
          },
          "metadata": {},
          "execution_count": 58
        }
      ]
    },
    {
      "cell_type": "markdown",
      "source": [
        "###Evaluation"
      ],
      "metadata": {
        "id": "39v3z045FS0v"
      }
    },
    {
      "cell_type": "code",
      "source": [
        "# variance score (1 is perfect prediction )\n",
        "MLinReg.score(X_test, Y_test)"
      ],
      "metadata": {
        "colab": {
          "base_uri": "https://localhost:8080/"
        },
        "id": "bsQPFSPKFU9j",
        "outputId": "618db8b1-cbb1-448e-f0b9-85260021e8dc"
      },
      "execution_count": 67,
      "outputs": [
        {
          "output_type": "execute_result",
          "data": {
            "text/plain": [
              "0.8900230909702191"
            ]
          },
          "metadata": {},
          "execution_count": 67
        }
      ]
    },
    {
      "cell_type": "code",
      "source": [
        "np.mean(Y_hat - Y_test)"
      ],
      "metadata": {
        "colab": {
          "base_uri": "https://localhost:8080/"
        },
        "id": "1vE1vvh1Etop",
        "outputId": "d61a7542-c15f-403a-80b6-6a7d8ffb1f7e"
      },
      "execution_count": 68,
      "outputs": [
        {
          "output_type": "execute_result",
          "data": {
            "text/plain": [
              "-1.3757964363071293"
            ]
          },
          "metadata": {},
          "execution_count": 68
        }
      ]
    },
    {
      "cell_type": "code",
      "source": [
        "#residual sum of squares\n",
        "np.mean((Y_hat - Y_test) ** 2)"
      ],
      "metadata": {
        "colab": {
          "base_uri": "https://localhost:8080/"
        },
        "id": "aQhniIcnE7FO",
        "outputId": "9d805098-bdf3-4eb8-a353-bdb2b4f9bcbd"
      },
      "execution_count": 69,
      "outputs": [
        {
          "output_type": "execute_result",
          "data": {
            "text/plain": [
              "408.3755301363798"
            ]
          },
          "metadata": {},
          "execution_count": 69
        }
      ]
    },
    {
      "metadata": {
        "id": "aZMZJ9o36upW"
      },
      "cell_type": "markdown",
      "source": [
        "## Author\n",
        "\n",
        "<a href=\"https://www.linkedin.com/in/swaroopnc/\" target=\"_blank\">Swaroop N C</a>"
      ]
    }
  ],
  "metadata": {
    "kernelspec": {
      "name": "python3",
      "display_name": "Python 3.8",
      "language": "python"
    },
    "language_info": {
      "name": "python",
      "version": "3.8.12",
      "mimetype": "text/x-python",
      "codemirror_mode": {
        "name": "ipython",
        "version": 3
      },
      "pygments_lexer": "ipython3",
      "nbconvert_exporter": "python",
      "file_extension": ".py"
    },
    "colab": {
      "name": "Sup_Reg_Mul_Linear_Reg_CO2.ipynb",
      "provenance": [],
      "collapsed_sections": []
    }
  },
  "nbformat": 4,
  "nbformat_minor": 0
}